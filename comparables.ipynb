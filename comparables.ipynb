{
  "nbformat": 4,
  "nbformat_minor": 0,
  "metadata": {
    "colab": {
      "name": "comparables.ipynb",
      "provenance": [],
      "collapsed_sections": []
    },
    "kernelspec": {
      "name": "python3",
      "display_name": "Python 3"
    },
    "language_info": {
      "name": "python"
    }
  },
  "cells": [
    {
      "cell_type": "code",
      "execution_count": null,
      "metadata": {
        "id": "X9AYZSYskRkA"
      },
      "outputs": [],
      "source": [
        "from sklearn.ensemble import IsolationForest\n",
        "from sklearn.mixture import GaussianMixture\n",
        "from sklearn import preprocessing\n",
        "import numpy as np\n",
        "import pandas as pd"
      ]
    },
    {
      "cell_type": "code",
      "source": [
        "OC_sc = pd.read_excel (r'/content/OC_Specialty chemicals.xlsx',index_col=0)  # import dataset\n",
        "OC_mc = pd.read_excel (r'/content/OC_other machinery & equipment.xlsx',index_col=0)\n",
        "OC_hf = pd.read_excel (r'/content/OC_wholeFirm.xlsx',index_col=0)\n",
        "SU_hf = pd.read_excel (r'/content/SU_Whole Firms.xlsx',index_col=0)\n",
        "SU_fce = pd.read_excel (r'/content/SU_flow control equipment.xlsx',index_col=0)\n"
      ],
      "metadata": {
        "id": "33BSsuZqkrD4"
      },
      "execution_count": null,
      "outputs": []
    },
    {
      "cell_type": "code",
      "source": [
        "## filling NaN with median\n",
        "OC_sc = OC_sc.fillna(OC_sc.median())\n",
        "OC_mc = OC_mc.fillna(OC_mc.median())\n",
        "OC_hf = OC_sc.fillna(OC_hf.median())\n",
        "SU_hf = OC_sc.fillna(SU_hf.median())\n",
        "SU_fce = OC_sc.fillna(SU_fce.median())"
      ],
      "metadata": {
        "colab": {
          "base_uri": "https://localhost:8080/"
        },
        "id": "JgLj0xOoK6Hz",
        "outputId": "760da9a7-a3d5-46f1-8842-2e7bf9ca4ec4"
      },
      "execution_count": null,
      "outputs": [
        {
          "output_type": "stream",
          "name": "stderr",
          "text": [
            "/usr/local/lib/python3.7/dist-packages/ipykernel_launcher.py:4: FutureWarning: Dropping of nuisance columns in DataFrame reductions (with 'numeric_only=None') is deprecated; in a future version this will raise TypeError.  Select only valid columns before calling the reduction.\n",
            "  after removing the cwd from sys.path.\n"
          ]
        }
      ]
    },
    {
      "cell_type": "code",
      "source": [
        "## standardizing dataset\n",
        "scaler_1= preprocessing.StandardScaler().fit(OC_sc)\n",
        "scaler_2= preprocessing.StandardScaler().fit(OC_mc)\n",
        "scaler_3= preprocessing.StandardScaler().fit(OC_hf)\n",
        "scaler_4= preprocessing.StandardScaler().fit(SU_hf)\n",
        "scaler_5= preprocessing.StandardScaler().fit(SU_fce)\n",
        "\n",
        "OC_sc=scaler_1.transform(OC_sc)\n",
        "OC_sc=scaler_2.transform(OC_mc)\n",
        "OC_sc=scaler_3.transform(OC_hf)\n",
        "SU_hf=scaler_4.transform(SU_hf)\n",
        "SU_fce=scaler_5.transform(SU_fce)"
      ],
      "metadata": {
        "id": "wHTY03PXJsOu"
      },
      "execution_count": null,
      "outputs": []
    },
    {
      "cell_type": "code",
      "source": [
        "\n",
        "\n",
        "OC_sc=np.array(OC_sc)\n",
        "OC_mc=np.array(OC_mc)\n",
        "OC_hf=np.array(OC_hf)\n",
        "SU_hf=np.array(SU_hf)\n",
        "SU_fce=np.array(SU_fce)\n",
        "\n",
        "list_x = []\n",
        "list_x.append(OC_sc)\n",
        "list_x.append(OC_mc)\n",
        "list_x.append(OC_hf)\n",
        "list_x.append(SU_hf)\n",
        "list_x.append(SU_fce)\n",
        "\n",
        "\n",
        "res_x_gm = []\n",
        "res_x_if = []\n",
        "final_score_if = []\n",
        "\n",
        "for x in list_x:\n",
        "  gm =  GaussianMixture(n_components=2, random_state=0)\n",
        "  gm.fit(x)\n",
        "  res_gm = gm.predict(x)\n",
        "  res_x_gm.append(res_gm)\n",
        "\n",
        "  clf = IsolationForest(n_estimators=100,contamination=0.05,max_samples=10,max_features=10,random_state=42)\n",
        "  clf.fit(x)\n",
        "\n",
        "  res_if = clf.predict(x)\n",
        "  res_x_if.append(res_if)\n",
        "\n",
        "  score_if = clf.decision_function(x)\n",
        "  final_score_if.append(score_if)\n",
        "\n",
        "res_x_if"
      ],
      "metadata": {
        "colab": {
          "base_uri": "https://localhost:8080/"
        },
        "id": "8SyF21wS3WGU",
        "outputId": "57a8d457-7a4c-432d-c4d6-75d0b8ccb4d6"
      },
      "execution_count": null,
      "outputs": [
        {
          "output_type": "execute_result",
          "data": {
            "text/plain": [
              "[array([ 1,  1,  1,  1,  1, -1,  1,  1,  1,  1,  1]),\n",
              " array([ 1, -1,  1,  1,  1,  1,  1,  1,  1,  1,  1]),\n",
              " array([ 1,  1,  1,  1,  1, -1,  1,  1,  1,  1,  1]),\n",
              " array([ 1,  1,  1,  1,  1, -1,  1,  1,  1,  1,  1]),\n",
              " array([ 1,  1,  1,  1,  1, -1,  1,  1,  1,  1,  1])]"
            ]
          },
          "metadata": {},
          "execution_count": 58
        }
      ]
    },
    {
      "cell_type": "code",
      "source": [
        "res_x_gm"
      ],
      "metadata": {
        "colab": {
          "base_uri": "https://localhost:8080/"
        },
        "id": "cn0Rn7eg6X12",
        "outputId": "4ff58b34-732a-481b-97de-ee04729d59b3"
      },
      "execution_count": null,
      "outputs": [
        {
          "output_type": "execute_result",
          "data": {
            "text/plain": [
              "[array([1, 1, 1, 1, 1, 0, 1, 1, 1, 1, 1]),\n",
              " array([0, 0, 0, 0, 1, 0, 0, 1, 0, 0, 1]),\n",
              " array([1, 1, 1, 1, 1, 0, 1, 1, 1, 1, 1]),\n",
              " array([1, 1, 1, 1, 1, 0, 1, 1, 1, 1, 1]),\n",
              " array([1, 1, 1, 1, 1, 0, 1, 1, 1, 1, 1])]"
            ]
          },
          "metadata": {},
          "execution_count": 57
        }
      ]
    },
    {
      "cell_type": "code",
      "source": [
        "clf.predict(x)\n",
        "clf.decision_function(x)"
      ],
      "metadata": {
        "colab": {
          "base_uri": "https://localhost:8080/",
          "height": 187
        },
        "id": "4T4I1UTV6XHI",
        "outputId": "ee7a09ce-093d-43f8-fee8-2b05d09dd186"
      },
      "execution_count": null,
      "outputs": [
        {
          "output_type": "error",
          "ename": "NameError",
          "evalue": "ignored",
          "traceback": [
            "\u001b[0;31m---------------------------------------------------------------------------\u001b[0m",
            "\u001b[0;31mNameError\u001b[0m                                 Traceback (most recent call last)",
            "\u001b[0;32m<ipython-input-1-85a1d5807b89>\u001b[0m in \u001b[0;36m<module>\u001b[0;34m()\u001b[0m\n\u001b[0;32m----> 1\u001b[0;31m \u001b[0mclf\u001b[0m\u001b[0;34m.\u001b[0m\u001b[0mpredict\u001b[0m\u001b[0;34m(\u001b[0m\u001b[0mx\u001b[0m\u001b[0;34m)\u001b[0m\u001b[0;34m\u001b[0m\u001b[0;34m\u001b[0m\u001b[0m\n\u001b[0m\u001b[1;32m      2\u001b[0m \u001b[0mclf\u001b[0m\u001b[0;34m.\u001b[0m\u001b[0mdecision_function\u001b[0m\u001b[0;34m(\u001b[0m\u001b[0mx\u001b[0m\u001b[0;34m)\u001b[0m\u001b[0;34m\u001b[0m\u001b[0;34m\u001b[0m\u001b[0m\n",
            "\u001b[0;31mNameError\u001b[0m: name 'clf' is not defined"
          ]
        }
      ]
    },
    {
      "cell_type": "code",
      "source": [
        "gm.predict_proba(x)"
      ],
      "metadata": {
        "colab": {
          "base_uri": "https://localhost:8080/"
        },
        "id": "2w44tAEU9hZJ",
        "outputId": "4c30b1d8-1352-455c-e780-99e7dd6a4557"
      },
      "execution_count": null,
      "outputs": [
        {
          "output_type": "execute_result",
          "data": {
            "text/plain": [
              "array([[0., 1.],\n",
              "       [0., 1.],\n",
              "       [0., 1.],\n",
              "       [0., 1.],\n",
              "       [0., 1.],\n",
              "       [1., 0.],\n",
              "       [0., 1.],\n",
              "       [0., 1.],\n",
              "       [0., 1.],\n",
              "       [1., 0.]])"
            ]
          },
          "metadata": {},
          "execution_count": 80
        }
      ]
    },
    {
      "cell_type": "code",
      "source": [
        ""
      ],
      "metadata": {
        "id": "mKGeTnillNdg"
      },
      "execution_count": null,
      "outputs": []
    }
  ]
}