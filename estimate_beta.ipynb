{
  "nbformat": 4,
  "nbformat_minor": 0,
  "metadata": {
    "colab": {
      "name": "estimate_beta.ipynb",
      "provenance": [],
      "collapsed_sections": []
    },
    "kernelspec": {
      "name": "python3",
      "display_name": "Python 3"
    },
    "language_info": {
      "name": "python"
    }
  },
  "cells": [
    {
      "cell_type": "code",
      "execution_count": null,
      "metadata": {
        "id": "KAbT1oYrbEYV"
      },
      "outputs": [],
      "source": [
        "from sklearn.ensemble import RandomForestRegressor\n",
        "import pandas as pd\n",
        "import numpy as np"
      ]
    },
    {
      "cell_type": "code",
      "source": [
        "df = pd.read_excel (r'/content/betaequity.xlsx')  # import dataset\n",
        "df"
      ],
      "metadata": {
        "id": "zZqGjYjac5qB"
      },
      "execution_count": null,
      "outputs": []
    },
    {
      "cell_type": "code",
      "source": [
        "x = df.drop([\"year\",\"equity_beta\"], axis=1)     # get x and y\n",
        "y = df['equity_beta']\n",
        "x"
      ],
      "metadata": {
        "id": "2ZHMl6yJdOGa"
      },
      "execution_count": null,
      "outputs": []
    },
    {
      "cell_type": "code",
      "source": [
        "# build a random forest model\n",
        "regr = RandomForestRegressor(n_estimators=100, max_depth=5, random_state=0)\n",
        "regr.fit(x,y)"
      ],
      "metadata": {
        "colab": {
          "base_uri": "https://localhost:8080/"
        },
        "id": "npP84DfCfoZG",
        "outputId": "f6a5f5fb-4b45-4bc7-ef06-b60359334ab2"
      },
      "execution_count": null,
      "outputs": [
        {
          "output_type": "execute_result",
          "data": {
            "text/plain": [
              "RandomForestRegressor(max_depth=5, random_state=0)"
            ]
          },
          "metadata": {},
          "execution_count": 4
        }
      ]
    },
    {
      "cell_type": "code",
      "source": [
        "regr.predict([[1,1,1,0,0,0,0]]) # prebid strategy"
      ],
      "metadata": {
        "colab": {
          "base_uri": "https://localhost:8080/"
        },
        "id": "-HlNYFGHgxEC",
        "outputId": "32b48606-8ace-4f81-b5a8-084f7414952b"
      },
      "execution_count": null,
      "outputs": [
        {
          "output_type": "stream",
          "name": "stderr",
          "text": [
            "/usr/local/lib/python3.7/dist-packages/sklearn/base.py:451: UserWarning: X does not have valid feature names, but RandomForestRegressor was fitted with feature names\n",
            "  \"X does not have valid feature names, but\"\n"
          ]
        },
        {
          "output_type": "execute_result",
          "data": {
            "text/plain": [
              "array([0.8446])"
            ]
          },
          "metadata": {},
          "execution_count": 6
        }
      ]
    },
    {
      "cell_type": "code",
      "source": [
        "regr.predict([[1,0,0,0,0,0,0]]) # management group：only tobacco business"
      ],
      "metadata": {
        "colab": {
          "base_uri": "https://localhost:8080/"
        },
        "id": "qIwQtlF5pVs4",
        "outputId": "b4ed2d24-5ce2-4ebe-c77c-b8a794930786"
      },
      "execution_count": null,
      "outputs": [
        {
          "output_type": "stream",
          "name": "stderr",
          "text": [
            "/usr/local/lib/python3.7/dist-packages/sklearn/base.py:451: UserWarning: X does not have valid feature names, but RandomForestRegressor was fitted with feature names\n",
            "  \"X does not have valid feature names, but\"\n"
          ]
        },
        {
          "output_type": "execute_result",
          "data": {
            "text/plain": [
              "array([0.73153333])"
            ]
          },
          "metadata": {},
          "execution_count": 7
        }
      ]
    },
    {
      "cell_type": "code",
      "source": [
        "regr.predict([[1,0,1,0,0,0,0]]) # KKR"
      ],
      "metadata": {
        "colab": {
          "base_uri": "https://localhost:8080/"
        },
        "id": "mCBueqQepgDw",
        "outputId": "de04469b-d4b9-4e1e-e1fe-b001ba2beca8"
      },
      "execution_count": null,
      "outputs": [
        {
          "output_type": "stream",
          "name": "stderr",
          "text": [
            "/usr/local/lib/python3.7/dist-packages/sklearn/base.py:451: UserWarning: X does not have valid feature names, but RandomForestRegressor was fitted with feature names\n",
            "  \"X does not have valid feature names, but\"\n"
          ]
        },
        {
          "output_type": "execute_result",
          "data": {
            "text/plain": [
              "array([0.8446])"
            ]
          },
          "metadata": {},
          "execution_count": 9
        }
      ]
    },
    {
      "cell_type": "code",
      "source": [
        "# visualize one of tree\n",
        "!pip install dtreeviz\n",
        "from dtreeviz.trees import dtreeviz\n",
        "feature_name = [\"tobacco\", \"food\", \"food_expand\", \"container-shipping\", \"alcoholic_beverages\", \"KFC\", \"erengy\"]\n",
        "viz = dtreeviz(regr.estimators_[99], x, y,\n",
        "               feature_names=feature_name,\n",
        "               title=\"1st decision tree - House data\")\n",
        "viz"
      ],
      "metadata": {
        "id": "LVQDfeIrlJ0x"
      },
      "execution_count": null,
      "outputs": []
    }
  ]
}